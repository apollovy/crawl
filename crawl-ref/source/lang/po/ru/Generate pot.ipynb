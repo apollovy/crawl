{
 "cells": [
  {
   "cell_type": "code",
   "execution_count": 1,
   "metadata": {},
   "outputs": [],
   "source": [
    "import copy\n",
    "import os\n",
    "\n",
    "import pandas as pd\n",
    "import polib"
   ]
  },
  {
   "cell_type": "markdown",
   "metadata": {},
   "source": [
    "# Monkey translate strings to know where they can be translated, and where not."
   ]
  },
  {
   "cell_type": "code",
   "execution_count": 2,
   "metadata": {},
   "outputs": [],
   "source": [
    "# pofile = polib.pofile('./LC_MESSAGES/crawl.po')\n",
    "\n",
    "# for entry in pofile.untranslated_entries():\n",
    "# #     if entry.msgstr.startswith('***') and entry.msgstr.endswith('***'):\n",
    "#         entry.msgstr = f\"^^^{entry.msgid}$$$\"\n",
    "    \n",
    "# pofile.save()"
   ]
  },
  {
   "cell_type": "code",
   "execution_count": 3,
   "metadata": {},
   "outputs": [],
   "source": [
    "os.system('cd ../../../; xgettext -k_:1 -k__:1c,2 -kpgettext_noop:1c,2 -o ./lang/po/mon-data.po ./mon-data.h')\n",
    "monsters_pofile = polib.pofile('../../po/mon-data.po')\n",
    "translations_pofile = polib.pofile('../../po/ru/LC_MESSAGES/crawl.po')"
   ]
  },
  {
   "cell_type": "markdown",
   "metadata": {},
   "source": [
    "# Add all monsters to appropriate contexts for correct translation"
   ]
  },
  {
   "cell_type": "code",
   "execution_count": 4,
   "metadata": {},
   "outputs": [],
   "source": [
    "ARTICLE_A = \"a\"\n",
    "ARTICLE_THE = \"the \"  # note the trailing space\n",
    "\n",
    "monsters_contexts = [\n",
    "    (\"\", ARTICLE_A),\n",
    "    (\"slain by\", ARTICLE_A),\n",
    "    (\"The mighty blow completely misses %s!\", \"\"),\n",
    "    (\"Your bite misses %s.\", ARTICLE_THE),\n",
    "    (\"%s hits a putrid demon\", ARTICLE_THE),\n",
    "    (\"The giant cockroach hits %s\", ARTICLE_A),\n",
    "]\n",
    "vowels = 'aeiou'\n",
    "\n",
    "\n",
    "def new_entries_gen():\n",
    "    for entry in monsters_pofile:\n",
    "        if not entry.msgid:\n",
    "            continue\n",
    "        for context, article in monsters_contexts:\n",
    "            new_entry = copy.copy(entry)\n",
    "            \n",
    "            if context:\n",
    "                new_entry.msgctxt = context\n",
    "            \n",
    "            if article == ARTICLE_A:\n",
    "                if new_entry.msgid[0] in vowels:\n",
    "                    article = 'an '\n",
    "                else:\n",
    "                    article = 'a '\n",
    "\n",
    "            new_entry.msgid = f'{article}{new_entry.msgid}'\n",
    "            yield new_entry\n",
    "\n",
    "\n",
    "# for entry in list(new_entries_gen()):  # without list we get infinite loop, because we add to list we're iterating on\n",
    "#     monsters_pofile.append(entry)\n",
    "    \n",
    "# monsters_pofile.save()"
   ]
  },
  {
   "cell_type": "markdown",
   "metadata": {},
   "source": [
    "# Вывести список существ"
   ]
  },
  {
   "cell_type": "code",
   "execution_count": 6,
   "metadata": {},
   "outputs": [
    {
     "name": "stdout",
     "output_type": "stream",
     "text": [
      "Skipping (azure jelly): txn in context [slain by] == <лазурным желе>.\n",
      "Skipping (wood golem): txn in context [slain by] == <деревянным големом>.\n",
      "Skipping (spirit): txn in context [slain by] == <духом>.\n",
      "Skipping (paladin): txn in context [slain by] == <паладином>.\n",
      "Skipping (pan): txn in context [slain by] == <кастрюлей>.\n",
      "Skipping (lamia): txn in context [slain by] == <ламией>.\n",
      "Skipping (chaos butterfly): txn in context [slain by] == <бабочкой хаоса>.\n",
      "Skipping (rock worm): txn in context [slain by] == <каменным червём>.\n",
      "Skipping (lava fish): txn in context [slain by] == <лавовой рыбой>.\n",
      "Skipping (clay golem): txn in context [slain by] == <глиняным големом>.\n",
      "Skipping (stone golem): txn in context [slain by] == <каменным големом>.\n",
      "Skipping (vapour): txn in context [slain by] == <паром>.\n",
      "Skipping (lava worm): txn in context [slain by] == <лавовым червём>.\n",
      "Skipping (deep elf priest): txn in context [slain by] == <глубинным эльфом жрецом>.\n",
      "Skipping (putrid demonspawn): txn in context [slain by] == <мерзким демонорождённым>.\n",
      "Skipping (lava orc): txn in context [slain by] == <лавовым орком>.\n",
      "Skipping (caustic shrike): txn in context [slain by] == <едким сорокопутом>.\n",
      "Skipping (yaktaur): txn in context [slain by] == <яктавром>.\n",
      "Skipping (yaktaur captain): txn in context [slain by] == <яктавром капитаном>.\n",
      "Skipping (deep elf high priest): txn in context [slain by] == <глубинным эльфом высшим жрецом>.\n",
      "Skipping (orc priest): txn in context [slain by] == <орком жрецом>.\n",
      "Skipping (orc high priest): txn in context [slain by] == <орком высшим жрецом>.\n",
      "Skipping (wolf spider): txn in context [slain by] == <пауком-волком>.\n",
      "Skipping (hornet): txn in context [slain by] == <шершнем>.\n",
      "Skipping (giant cockroach): txn in context [slain by] == <гигантским тараканом>.\n",
      "Skipping (acid dragon): txn in context [slain by] == <кислотным драконом>.\n",
      "Skipping (acid blob): txn in context [slain by] == <кислотным шаром>.\n",
      "Skipping (mummy): txn in context [slain by] == <мумией>.\n",
      "Skipping (guardian mummy): txn in context [slain by] == <мумией-охранником>.\n",
      "Skipping (royal mummy): txn in context [slain by] == <королевской мумией>.\n",
      "Skipping (mummy priest): txn in context [slain by] == <мумией священником>.\n",
      "Skipping (yak): txn in context [slain by] == <яком>.\n",
      "Skipping (death yak): txn in context [slain by] == <яком смерти>.\n",
      "Skipping (skeleton): txn in context [slain by] == <скелетом>.\n",
      "Skipping (small skeleton): txn in context [slain by] == <маленьким скелетом>.\n",
      "Skipping (large skeleton): txn in context [slain by] == <большим скелетом>.\n",
      "Skipping (lava snake): txn in context [slain by] == <лавовой змеёй>.\n",
      "Skipping (demonspawn): txn in context [slain by] == <демонорождённым>.\n",
      "Skipping (monstrous demonspawn): txn in context [slain by] == <монструозным демонорождённым>.\n",
      "Skipping (gelid demonspawn): txn in context [slain by] == <желеобразным демонорождённым>.\n",
      "Skipping (infernal demonspawn): txn in context [slain by] == <инфернальным демонорождённым>.\n",
      "Skipping (torturous demonspawn): txn in context [slain by] == <мучительным демонорождённым>.\n",
      "Skipping (hornet): txn in context [The giant cockroach hits %s] == <шершня>.\n",
      "Skipping (giant cockroach): txn in context [The mighty blow completely misses %s!] == <гигантскому таракану>.\n",
      "Skipping (giant cockroach): txn in context [Your bite misses %s.] == <гигантскому таракану>.\n",
      "Skipping (giant cockroach): txn in context [%s hits a putrid demon] == <гигантский таракан>.\n",
      "Skipping (giant cockroach): txn in context [The giant cockroach hits %s] == <гигантскому таракану>.\n",
      "Skipping (jackal): txn in context [%s bites you for 10 damage with +3 dagger!!!] == <шакал>.\n",
      "Skipping (jackal): txn in context [The jackal bites %s for 10 damage with +3 dagger!!!] == <шакала>.\n",
      "Skipping (yaktaur): txn in context [blasted by %s] == <яктавром>.\n"
     ]
    }
   ],
   "source": [
    "def get_monster_ids(monsters_pofile):\n",
    "    for monster_entry in monsters_pofile:\n",
    "        yield(monster_entry.msgid)\n",
    "        \n",
    "\n",
    "def get_monster_ids_and_translations(monster_ids, translations_pofile):\n",
    "    data = dict(map(lambda mid: (mid, \"\"), monster_ids))\n",
    "    \n",
    "    for entry in translations_pofile:\n",
    "        msgid = entry.msgid\n",
    "        \n",
    "        # normalize msgid\n",
    "        if msgid.startswith(\"a \"):\n",
    "            startindex = 2\n",
    "        elif msgid.startswith(\"an \"):\n",
    "            startindex = 3\n",
    "        elif msgid.startswith(\"the \"):\n",
    "            startindex = 4\n",
    "        else:\n",
    "            startindex = 0\n",
    "\n",
    "        msgid = msgid[startindex:]\n",
    "\n",
    "        if msgid in data:\n",
    "            if entry.msgctxt:\n",
    "                print(f\"Skipping ({msgid}): txn in context [{entry.msgctxt}] == <{entry.msgstr}>.\")\n",
    "                continue\n",
    "            data[msgid] = entry.msgstr\n",
    "    \n",
    "    return data\n",
    "    \n",
    "\n",
    "df = pd.DataFrame.from_records(\n",
    "    list(\n",
    "        get_monster_ids_and_translations(\n",
    "            get_monster_ids(\n",
    "                monsters_pofile\n",
    "            ),\n",
    "            translations_pofile,\n",
    "        ).items()\n",
    "        )\n",
    ")"
   ]
  },
  {
   "cell_type": "code",
   "execution_count": 7,
   "metadata": {},
   "outputs": [],
   "source": [
    "df.to_clipboard()"
   ]
  },
  {
   "cell_type": "code",
   "execution_count": null,
   "metadata": {},
   "outputs": [],
   "source": []
  }
 ],
 "metadata": {
  "kernelspec": {
   "display_name": "Python 3",
   "language": "python",
   "name": "python3"
  },
  "language_info": {
   "codemirror_mode": {
    "name": "ipython",
    "version": 3
   },
   "file_extension": ".py",
   "mimetype": "text/x-python",
   "name": "python",
   "nbconvert_exporter": "python",
   "pygments_lexer": "ipython3",
   "version": "3.7.3"
  }
 },
 "nbformat": 4,
 "nbformat_minor": 4
}
