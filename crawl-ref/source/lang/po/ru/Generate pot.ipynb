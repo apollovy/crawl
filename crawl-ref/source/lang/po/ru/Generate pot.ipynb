{
 "cells": [
  {
   "cell_type": "code",
   "execution_count": 2,
   "metadata": {},
   "outputs": [],
   "source": [
    "import copy\n",
    "import os\n",
    "\n",
    "import polib"
   ]
  },
  {
   "cell_type": "markdown",
   "metadata": {},
   "source": [
    "# Monkey translate strings to know where they can be translated, and where not."
   ]
  },
  {
   "cell_type": "code",
   "execution_count": 53,
   "metadata": {},
   "outputs": [],
   "source": [
    "# pofile = polib.pofile('./LC_MESSAGES/crawl.po')\n",
    "\n",
    "# for entry in pofile.untranslated_entries():\n",
    "# #     if entry.msgstr.startswith('***') and entry.msgstr.endswith('***'):\n",
    "#         entry.msgstr = f\"^^^{entry.msgid}$$$\"\n",
    "    \n",
    "# pofile.save()"
   ]
  },
  {
   "cell_type": "markdown",
   "metadata": {},
   "source": [
    "# Add all monsters to appropriate contexts for correct translation"
   ]
  },
  {
   "cell_type": "code",
   "execution_count": 3,
   "metadata": {},
   "outputs": [],
   "source": [
    "os.system('cd ../../../; xgettext -k_:1 -k__:1c,2 -o ./lang/po/mon-data.po ./mon-data.h')\n",
    "monsters_pofile = polib.pofile('../../po/mon-data.po')\n",
    "\n",
    "ARTICLE_A = \"a\"\n",
    "ARTICLE_THE = \"the \"  # note the trailing space\n",
    "\n",
    "monsters_contexts = [\n",
    "    (\"\", ARTICLE_A),\n",
    "    (\"slain by\", ARTICLE_A),\n",
    "    (\"The mighty blow completely misses %s!\", \"\"),\n",
    "    (\"Your bite misses %s.\", ARTICLE_THE),\n",
    "    (\"%s hits a putrid demon\", ARTICLE_THE),\n",
    "    (\"The giant cockroach hits %s\", ARTICLE_A),\n",
    "]\n",
    "vowels = 'aeiou'\n",
    "\n",
    "\n",
    "def new_entries_gen():\n",
    "    for entry in monsters_pofile:\n",
    "        if not entry.msgid:\n",
    "            continue\n",
    "        for context, article in monsters_contexts:\n",
    "            new_entry = copy.copy(entry)\n",
    "            \n",
    "            if context:\n",
    "                new_entry.msgctxt = context\n",
    "            \n",
    "            if article == ARTICLE_A:\n",
    "                if new_entry.msgid[0] in vowels:\n",
    "                    article = 'an '\n",
    "                else:\n",
    "                    article = 'a '\n",
    "\n",
    "            new_entry.msgid = f'{article}{new_entry.msgid}'\n",
    "            yield new_entry\n",
    "\n",
    "\n",
    "for entry in list(new_entries_gen()):  # without list we get infinite loop, because we add to list we're iterating on\n",
    "    monsters_pofile.append(entry)\n",
    "    \n",
    "monsters_pofile.save()"
   ]
  },
  {
   "cell_type": "markdown",
   "metadata": {},
   "source": [
    "# Add all features \"a \" appended version"
   ]
  },
  {
   "cell_type": "code",
   "execution_count": 10,
   "metadata": {},
   "outputs": [],
   "source": [
    "os.system('cd ..; xgettext -k_:1 -k__:1c,2 -o ./lang/po/feature-data.po ./feature-data.h')\n",
    "features_pofile = polib.pofile('./po/feature-data.po')\n",
    "\n",
    "vowels = 'aeiou'\n",
    "\n",
    "\n",
    "def new_features_entries_gen():\n",
    "    for entry in features_pofile:\n",
    "        if not entry.msgid:\n",
    "            continue\n",
    "        new_entry = copy.copy(entry)\n",
    "        if new_entry.msgid[0] in vowels:\n",
    "            article = 'an'\n",
    "        else:\n",
    "            article = 'a'\n",
    "        new_entry.msgid = f'{article} {new_entry.msgid}'\n",
    "        yield new_entry\n",
    "\n",
    "\n",
    "for entry in list(new_features_entries_gen()):  # without list we get infinite loop, because we add to list we're iterating on\n",
    "    features_pofile.append(entry)\n",
    "    \n",
    "features_pofile.save()"
   ]
  },
  {
   "cell_type": "code",
   "execution_count": null,
   "metadata": {},
   "outputs": [],
   "source": []
  }
 ],
 "metadata": {
  "kernelspec": {
   "display_name": "Python 3",
   "language": "python",
   "name": "python3"
  },
  "language_info": {
   "codemirror_mode": {
    "name": "ipython",
    "version": 3
   },
   "file_extension": ".py",
   "mimetype": "text/x-python",
   "name": "python",
   "nbconvert_exporter": "python",
   "pygments_lexer": "ipython3",
   "version": "3.7.3"
  }
 },
 "nbformat": 4,
 "nbformat_minor": 4
}
